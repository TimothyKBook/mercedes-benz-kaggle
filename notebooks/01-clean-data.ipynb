{
 "cells": [
  {
   "cell_type": "markdown",
   "metadata": {},
   "source": [
    "# Data Cleaning for Model Fitting\n",
    "The data we have are problematic - we have 8 categorical variables that need to be split into model matrices, and some of those variables are incompatible with the test data, as there are extra factor levels.  This script will clean the training/test data into two separate data frames each: One for the base run, and one for the run without X0, X2,and X5, so that the remaining test observations can be properly fit."
   ]
  },
  {
   "cell_type": "code",
   "execution_count": 8,
   "metadata": {
    "collapsed": false
   },
   "outputs": [],
   "source": [
    "options(stringsAsFactors = FALSE)\n",
    "suppressWarnings(suppressMessages({\n",
    "    library(dplyr)\n",
    "    library(grplasso)\n",
    "}))"
   ]
  },
  {
   "cell_type": "code",
   "execution_count": 9,
   "metadata": {
    "collapsed": false
   },
   "outputs": [],
   "source": [
    "train <- read.csv('../data/train.csv')\n",
    "test <- read.csv('../data/test.csv')"
   ]
  },
  {
   "cell_type": "code",
   "execution_count": 10,
   "metadata": {
    "collapsed": true
   },
   "outputs": [],
   "source": [
    "# Extract covariates\n",
    "covars <- train %>% select(starts_with('X'))\n",
    "cat_names <- colnames(covars)[sapply(covars, function(x) class(x) == 'character')]\n",
    "num_names <- colnames(covars)[sapply(covars, function(x) class(x) != 'character')]\n",
    "\n",
    "# Categorical variables\n",
    "cat_vars_train <- train[cat_names]\n",
    "cat_vars_test <- test[cat_names]\n",
    "\n",
    "# Quantitative variables\n",
    "num_vars_train <- train[num_names]\n",
    "num_vars_test <- test[num_names]"
   ]
  },
  {
   "cell_type": "markdown",
   "metadata": {},
   "source": [
    "### Prune Categorical Variables\n",
    "Create model matrices and indicesthat will be used in the grouped lasso"
   ]
  },
  {
   "cell_type": "code",
   "execution_count": 17,
   "metadata": {
    "collapsed": false
   },
   "outputs": [],
   "source": [
    "# Produce categorical model matrices, remove bad cols in test data\n",
    "cat_mm_train <- as.data.frame(model.matrix(~ . - 1, data = cat_vars_train))\n",
    "cat_mm_test <- as.data.frame(model.matrix(~ . -1, data = cat_vars_test))\n",
    "cat_mm_test <- cat_mm_test %>% \n",
    "    select(-starts_with('X0'),\n",
    "           -starts_with('X2'),\n",
    "           -starts_with('X5'))"
   ]
  },
  {
   "cell_type": "code",
   "execution_count": 63,
   "metadata": {
    "collapsed": false
   },
   "outputs": [],
   "source": [
    "# Create indices for grouped lasso\n",
    "ind_dict_1 <- list()\n",
    "ind_dict_2 <- list()\n",
    "\n",
    "for (cn in colnames(cat_vars_train)){\n",
    "    ind_dict_1[[cn]] <- grep(cn, colnames(cat_mm_train))\n",
    "    ind_dict_2[[cn]] <- grep(cn, colnames(cat_mm_test))\n",
    "}\n",
    "\n",
    "grp_ind_1 <- rep(NA, ncol(cat_mm_train))\n",
    "grp_ind_2 <- rep(NA, ncol(cat_mm_test))\n",
    "for (i in 1:ncol(cat_vars_train)) {\n",
    "    cn  <- colnames(cat_vars_train)[i]\n",
    "    grp_ind_1[ind_dict_1[[cn]]] <- i    \n",
    "    grp_ind_2[ind_dict_2[[cn]]] <- i\n",
    "}"
   ]
  },
  {
   "cell_type": "markdown",
   "metadata": {},
   "source": [
    "### Prune Quantitative Variables\n",
    "Remove quantitative variables that are \"too\" unary"
   ]
  },
  {
   "cell_type": "code",
   "execution_count": 73,
   "metadata": {
    "collapsed": false
   },
   "outputs": [
    {
     "data": {
      "text/plain": [
       "    Min.  1st Qu.   Median     Mean  3rd Qu.     Max. \n",
       "0.000000 0.004217 0.022330 0.157700 0.195800 0.999800 "
      ]
     },
     "metadata": {},
     "output_type": "display_data"
    }
   ],
   "source": [
    "# \"Too unary\" = 1% away from being all zeros or all ones\n",
    "cut_tol <- 0.01\n",
    "\n",
    "# Look at means (purity) of each variable\n",
    "bin_purity <- unname(sapply(num_vars_train, mean))\n",
    "summary(bin_purity)"
   ]
  },
  {
   "cell_type": "code",
   "execution_count": 74,
   "metadata": {
    "collapsed": false
   },
   "outputs": [
    {
     "data": {
      "text/plain": [
       "num_keep\n",
       "FALSE  TRUE \n",
       "  147   221 "
      ]
     },
     "metadata": {},
     "output_type": "display_data"
    }
   ],
   "source": [
    "# Trim based on this tolerance cut.  Keeping 221 variables.\n",
    "num_keep <- (bin_purity < 1 - cut_tol) & (bin_purity > cut_tol)\n",
    "table(num_keep)"
   ]
  },
  {
   "cell_type": "code",
   "execution_count": 75,
   "metadata": {
    "collapsed": true
   },
   "outputs": [],
   "source": [
    "# Remove variables we don't want\n",
    "num_vars_train <- num_vars_train[num_keep]\n",
    "num_vars_test <- num_vars_test[num_keep]"
   ]
  },
  {
   "cell_type": "code",
   "execution_count": 76,
   "metadata": {
    "collapsed": true
   },
   "outputs": [],
   "source": [
    "# Make final grouped lasso indices - NAs for ungrouped obs\n",
    "grp_ind_1 <- c(grp_ind_1, rep(NA, ncol(num_vars_train)))\n",
    "grp_ind_2 <- c(grp_ind_2, rep(NA, ncol(num_vars_test)))"
   ]
  },
  {
   "cell_type": "code",
   "execution_count": 83,
   "metadata": {
    "collapsed": false
   },
   "outputs": [],
   "source": [
    "y  <- log(train$y)\n",
    "df <- cbind(y, cat_mm_train, num_vars_train)"
   ]
  },
  {
   "cell_type": "code",
   "execution_count": 87,
   "metadata": {
    "collapsed": false
   },
   "outputs": [
    {
     "ename": "ERROR",
     "evalue": "Error in grplasso.default(x = l$x, y = l$y, index = l$index, weights = l$w, : formal argument \"index\" matched by multiple actual arguments\n",
     "output_type": "error",
     "traceback": [
      "Error in grplasso.default(x = l$x, y = l$y, index = l$index, weights = l$w, : formal argument \"index\" matched by multiple actual arguments\nTraceback:\n",
      "1. grplasso(y ~ ., data = df, lambda = 10, index = grp_ind_1, model = LinReg())",
      "2. grplasso.formula(y ~ ., data = df, lambda = 10, index = grp_ind_1, \n .     model = LinReg())",
      "3. grplasso.default(x = l$x, y = l$y, index = l$index, weights = l$w, \n .     offset = l$off, lambda = lambda, coef.init = coef.init, penscale = penscale, \n .     model = model, center = center, standardize = standardize, \n .     control = control, ...)"
     ]
    }
   ],
   "source": [
    "m1 <- grplasso(y ~ ., data = df, lambda = 10, index = grp_ind_1, model = LinReg())"
   ]
  },
  {
   "cell_type": "code",
   "execution_count": null,
   "metadata": {
    "collapsed": true
   },
   "outputs": [],
   "source": [
    "# Problem!  Fix later"
   ]
  }
 ],
 "metadata": {
  "anaconda-cloud": {},
  "kernelspec": {
   "display_name": "R",
   "language": "R",
   "name": "ir"
  },
  "language_info": {
   "codemirror_mode": "r",
   "file_extension": ".r",
   "mimetype": "text/x-r-source",
   "name": "R",
   "pygments_lexer": "r",
   "version": "3.3.1"
  }
 },
 "nbformat": 4,
 "nbformat_minor": 1
}
