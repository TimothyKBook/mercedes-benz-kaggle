{
 "cells": [
  {
   "cell_type": "markdown",
   "metadata": {},
   "source": [
    "# Data Cleaning for Model Fitting\n",
    "The data we have are problematic - we have 8 categorical variables that need to be split into model matrices, and some of those variables are incompatible with the test data, as there are extra factor levels.  This script will clean the training/test data into two separate data frames each: One for the base run, and one for the run without X0, X2,and X5, so that the remaining test observations can be properly fit."
   ]
  },
  {
   "cell_type": "code",
   "execution_count": 1,
   "metadata": {
    "collapsed": false
   },
   "outputs": [
    {
     "name": "stderr",
     "output_type": "stream",
     "text": [
      "Warning message:\n",
      "\"package 'dplyr' was built under R version 3.3.2\""
     ]
    }
   ],
   "source": [
    "options(stringsAsFactors = FALSE)\n",
    "library(dplyr, quietly = TRUE, warn.conflicts = FALSE)"
   ]
  },
  {
   "cell_type": "code",
   "execution_count": 2,
   "metadata": {
    "collapsed": false
   },
   "outputs": [],
   "source": [
    "train <- read.csv('../data/train.csv')\n",
    "test <- read.csv('../data/test.csv')"
   ]
  },
  {
   "cell_type": "code",
   "execution_count": 3,
   "metadata": {
    "collapsed": false
   },
   "outputs": [],
   "source": [
    "# Extract covariates\n",
    "covars <- train %>% select(starts_with('X'))\n",
    "cat_names <- colnames(covars)[sapply(covars, function(x) class(x) == 'character')]\n",
    "num_names <- colnames(covars)[sapply(covars, function(x) class(x) != 'character')]\n",
    "\n",
    "# Categorical variables\n",
    "cat_vars_train <- train[cat_names]\n",
    "cat_vars_test <- test[cat_names]\n",
    "\n",
    "# Quantitative variables\n",
    "num_vars_train <- train[num_names]\n",
    "num_vars_test <- test[num_names]"
   ]
  },
  {
   "cell_type": "markdown",
   "metadata": {},
   "source": [
    "### Prune Categorical Variables\n",
    "Create model matrices, make them full rank, and create indices that will be used in the grouped lasso"
   ]
  },
  {
   "cell_type": "code",
   "execution_count": 4,
   "metadata": {
    "collapsed": false
   },
   "outputs": [],
   "source": [
    "# Produce categorical model matrices\n",
    "cat_mm_train <- as.data.frame(model.matrix(~ . - 1, data = cat_vars_train))\n",
    "cat_mm_test <- as.data.frame(model.matrix(~ . -1, data = cat_vars_test))"
   ]
  },
  {
   "cell_type": "code",
   "execution_count": 5,
   "metadata": {
    "collapsed": true
   },
   "outputs": [],
   "source": [
    "# This removes first instance of a categorical variable with duplicates.\n",
    "# e.g. X0a, X0b, X0c, ... etc.  This would remove X0a.\n",
    "keep_cat1 <- duplicated(substr(colnames(cat_mm_train), 1, 2))\n",
    "cat_mm_train <- cat_mm_train[keep_cat1]"
   ]
  },
  {
   "cell_type": "code",
   "execution_count": 6,
   "metadata": {
    "collapsed": true
   },
   "outputs": [],
   "source": [
    "# Create vector of integers to be used as grplasso index. (For model 1 only.)\n",
    "grp_ind_1 <- as.numeric(substr(colnames(cat_mm_train), 2, 2)) + 1"
   ]
  },
  {
   "cell_type": "markdown",
   "metadata": {},
   "source": [
    "### Prune Quantitative Variables\n",
    "Remove quantitative variables that are \"too\" unary"
   ]
  },
  {
   "cell_type": "code",
   "execution_count": 7,
   "metadata": {
    "collapsed": false
   },
   "outputs": [
    {
     "data": {
      "text/plain": [
       "    Min.  1st Qu.   Median     Mean  3rd Qu.     Max. \n",
       "0.000000 0.004217 0.022330 0.157700 0.195800 0.999800 "
      ]
     },
     "metadata": {},
     "output_type": "display_data"
    }
   ],
   "source": [
    "# \"Too unary\" = 1% away from being all zeros or all ones\n",
    "cut_tol <- 0.01\n",
    "\n",
    "# Look at means (purity) of each variable\n",
    "bin_purity <- unname(sapply(num_vars_train, mean))\n",
    "summary(bin_purity)"
   ]
  },
  {
   "cell_type": "code",
   "execution_count": 8,
   "metadata": {
    "collapsed": false
   },
   "outputs": [
    {
     "data": {
      "text/plain": [
       "num_keep\n",
       "FALSE  TRUE \n",
       "  147   221 "
      ]
     },
     "metadata": {},
     "output_type": "display_data"
    }
   ],
   "source": [
    "# Trim based on this tolerance cut.  Keeping 221 variables.\n",
    "num_keep <- (bin_purity < 1 - cut_tol) & (bin_purity > cut_tol)\n",
    "table(num_keep)"
   ]
  },
  {
   "cell_type": "code",
   "execution_count": 9,
   "metadata": {
    "collapsed": true
   },
   "outputs": [],
   "source": [
    "# Remove variables we don't want\n",
    "num_vars_train <- num_vars_train[num_keep]\n",
    "num_vars_test <- num_vars_test[num_keep]"
   ]
  },
  {
   "cell_type": "markdown",
   "metadata": {},
   "source": [
    "### Prepare Objects for Export\n",
    "The model will be fully fit in notebook 02.  Here, we assemble the pieces needed to fit model 1 (the full model, using all variables as decided upon above) and model 2 (model 1, but with X0, X2, and X5 removed to fit observations in the test data which have extra factor levels for those variables)."
   ]
  },
  {
   "cell_type": "code",
   "execution_count": 10,
   "metadata": {
    "collapsed": false
   },
   "outputs": [],
   "source": [
    "# Everything needed for model 1.\n",
    "y1 <- log(train$y)\n",
    "x1 <- as.matrix(cbind(1, cat_mm_train, num_vars_train))\n",
    "grp_ind_1 <- c(NA, grp_ind_1, rep(NA, ncol(num_vars_train)))"
   ]
  },
  {
   "cell_type": "code",
   "execution_count": 11,
   "metadata": {
    "collapsed": false
   },
   "outputs": [],
   "source": [
    "# Everything needed for model 2.\n",
    "cat_mm_train2 <- cat_mm_train %>%\n",
    "    select(-starts_with('X0'),\n",
    "           -starts_with('X2'),\n",
    "           -starts_with('X5'))\n",
    "\n",
    "keep_cat2 <- duplicated(substr(colnames(cat_mm_train2), 1, 2))\n",
    "cat_mm_train2 <- cat_mm_train2[keep_cat2]\n",
    "\n",
    "x2 <- as.matrix(cbind(1, cat_mm_train2, num_vars_train))\n",
    "grp_ind_2 <- as.numeric(substr(colnames(cat_mm_train2), 2, 2)) + 1\n",
    "grp_ind_2 <- c(NA, grp_ind_2, rep(NA, ncol(num_vars_train)))"
   ]
  },
  {
   "cell_type": "code",
   "execution_count": 12,
   "metadata": {
    "collapsed": true
   },
   "outputs": [],
   "source": [
    "# Export everything needed for 02\n",
    "save(x1, y1, grp_ind_1, file = '../intermed-rdatas/m1_objects.RData')\n",
    "save(x2, grp_ind_2, file = '../intermed-rdatas/m2_objects.RData')\n",
    "save(cat_mm_test, num_vars_test, file = '../intermed-rdatas/test_objects.RData')"
   ]
  },
  {
   "cell_type": "markdown",
   "metadata": {},
   "source": [
    "### To Be Continued...\n",
    "Model will finally be fit in notebook 02!"
   ]
  }
 ],
 "metadata": {
  "anaconda-cloud": {},
  "kernelspec": {
   "display_name": "R",
   "language": "R",
   "name": "ir"
  },
  "language_info": {
   "codemirror_mode": "r",
   "file_extension": ".r",
   "mimetype": "text/x-r-source",
   "name": "R",
   "pygments_lexer": "r",
   "version": "3.3.1"
  }
 },
 "nbformat": 4,
 "nbformat_minor": 1
}
