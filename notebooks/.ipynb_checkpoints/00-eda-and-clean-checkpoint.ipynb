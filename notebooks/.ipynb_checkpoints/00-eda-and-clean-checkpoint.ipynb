{
 "cells": [
  {
   "cell_type": "markdown",
   "metadata": {},
   "source": [
    "# Mercedes-Benz Kaggle Competition\n",
    "The purpose of this set of notebooks is to model time (in seconds) a car took to pass testing for the set of nearly 400 anonymized covariates."
   ]
  },
  {
   "cell_type": "code",
   "execution_count": 1,
   "metadata": {
    "collapsed": false
   },
   "outputs": [],
   "source": [
    "# Obligatory\n",
    "options(stringsAsFactors = FALSE)\n",
    "suppressWarnings(suppressMessages({\n",
    "    library(dplyr)\n",
    "    library(ggplot2)\n",
    "}))"
   ]
  },
  {
   "cell_type": "code",
   "execution_count": 2,
   "metadata": {
    "collapsed": false
   },
   "outputs": [],
   "source": [
    "train <- read.csv('../data/train.csv')\n",
    "test <- read.csv('../data/test.csv')"
   ]
  },
  {
   "cell_type": "markdown",
   "metadata": {},
   "source": [
    "### Some brief checks to view the data and make sure they're \"clean\""
   ]
  },
  {
   "cell_type": "code",
   "execution_count": 3,
   "metadata": {
    "collapsed": false
   },
   "outputs": [
    {
     "name": "stdout",
     "output_type": "stream",
     "text": [
      "[1] 4209  378\n",
      "[1] 4209  377\n"
     ]
    }
   ],
   "source": [
    "# Data set isn't very tall - but it's fat.\n",
    "dim(train) %>% print\n",
    "dim(test) %>% print"
   ]
  },
  {
   "cell_type": "code",
   "execution_count": 4,
   "metadata": {
    "collapsed": false
   },
   "outputs": [
    {
     "name": "stdout",
     "output_type": "stream",
     "text": [
      "[1] \"y\"\n",
      "character(0)\n"
     ]
    }
   ],
   "source": [
    "# Data have same set of features, except testing is missing response\n",
    "setdiff(colnames(train), colnames(test)) %>% print\n",
    "setdiff(colnames(test), colnames(train)) %>% print"
   ]
  },
  {
   "cell_type": "code",
   "execution_count": 5,
   "metadata": {
    "collapsed": false
   },
   "outputs": [
    {
     "name": "stdout",
     "output_type": "stream",
     "text": [
      "[1] FALSE\n",
      "[1] FALSE\n"
     ]
    }
   ],
   "source": [
    "# Check for missing data - there are none.\n",
    "any(sapply(train, function(x) any(is.na(x)))) %>% print\n",
    "any(sapply(test, function(x) any(is.na(x)))) %>% print"
   ]
  },
  {
   "cell_type": "code",
   "execution_count": 6,
   "metadata": {
    "collapsed": false
   },
   "outputs": [
    {
     "name": "stdout",
     "output_type": "stream",
     "text": [
      "[1] TRUE\n",
      "[1] TRUE\n"
     ]
    }
   ],
   "source": [
    "# Check that the ID variable is a unique identifier\n",
    "(length(unique(train$ID)) == nrow(train)) %>% print\n",
    "(length(unique(test$ID)) == nrow(test)) %>% print"
   ]
  },
  {
   "cell_type": "code",
   "execution_count": 7,
   "metadata": {
    "collapsed": false
   },
   "outputs": [
    {
     "data": {
      "text/html": [
       "<table>\n",
       "<thead><tr><th></th><th scope=col>ID</th><th scope=col>y</th><th scope=col>X0</th><th scope=col>X1</th><th scope=col>X2</th><th scope=col>X3</th><th scope=col>X101</th><th scope=col>X102</th><th scope=col>X103</th><th scope=col>X104</th><th scope=col>X105</th><th scope=col>X106</th></tr></thead>\n",
       "<tbody>\n",
       "\t<tr><th scope=row>1</th><td>0     </td><td>130.81</td><td>k     </td><td>v     </td><td>at    </td><td>a     </td><td>0     </td><td>0     </td><td>0     </td><td>0     </td><td>0     </td><td>0     </td></tr>\n",
       "\t<tr><th scope=row>2</th><td>6    </td><td>88.53</td><td>k    </td><td>t    </td><td>av   </td><td>e    </td><td>1    </td><td>0    </td><td>0    </td><td>0    </td><td>0    </td><td>0    </td></tr>\n",
       "\t<tr><th scope=row>3</th><td>7    </td><td>76.26</td><td>az   </td><td>w    </td><td>n    </td><td>c    </td><td>1    </td><td>0    </td><td>0    </td><td>0    </td><td>0    </td><td>0    </td></tr>\n",
       "\t<tr><th scope=row>4</th><td>9    </td><td>80.62</td><td>az   </td><td>t    </td><td>n    </td><td>f    </td><td>1    </td><td>0    </td><td>0    </td><td>0    </td><td>0    </td><td>0    </td></tr>\n",
       "\t<tr><th scope=row>5</th><td>13   </td><td>78.02</td><td>az   </td><td>v    </td><td>n    </td><td>f    </td><td>1    </td><td>0    </td><td>0    </td><td>0    </td><td>0    </td><td>0    </td></tr>\n",
       "\t<tr><th scope=row>6</th><td>18   </td><td>92.93</td><td>t    </td><td>b    </td><td>e    </td><td>c    </td><td>1    </td><td>0    </td><td>1    </td><td>0    </td><td>0    </td><td>0    </td></tr>\n",
       "</tbody>\n",
       "</table>\n"
      ],
      "text/latex": [
       "\\begin{tabular}{r|llllllllllll}\n",
       "  & ID & y & X0 & X1 & X2 & X3 & X101 & X102 & X103 & X104 & X105 & X106\\\\\n",
       "\\hline\n",
       "\t1 & 0      & 130.81 & k      & v      & at     & a      & 0      & 0      & 0      & 0      & 0      & 0     \\\\\n",
       "\t2 & 6     & 88.53 & k     & t     & av    & e     & 1     & 0     & 0     & 0     & 0     & 0    \\\\\n",
       "\t3 & 7     & 76.26 & az    & w     & n     & c     & 1     & 0     & 0     & 0     & 0     & 0    \\\\\n",
       "\t4 & 9     & 80.62 & az    & t     & n     & f     & 1     & 0     & 0     & 0     & 0     & 0    \\\\\n",
       "\t5 & 13    & 78.02 & az    & v     & n     & f     & 1     & 0     & 0     & 0     & 0     & 0    \\\\\n",
       "\t6 & 18    & 92.93 & t     & b     & e     & c     & 1     & 0     & 1     & 0     & 0     & 0    \\\\\n",
       "\\end{tabular}\n"
      ],
      "text/plain": [
       "  ID      y X0 X1 X2 X3 X101 X102 X103 X104 X105 X106\n",
       "1  0 130.81  k  v at  a    0    0    0    0    0    0\n",
       "2  6  88.53  k  t av  e    1    0    0    0    0    0\n",
       "3  7  76.26 az  w  n  c    1    0    0    0    0    0\n",
       "4  9  80.62 az  t  n  f    1    0    0    0    0    0\n",
       "5 13  78.02 az  v  n  f    1    0    0    0    0    0\n",
       "6 18  92.93  t  b  e  c    1    0    1    0    0    0"
      ]
     },
     "metadata": {},
     "output_type": "display_data"
    }
   ],
   "source": [
    "# Let's just grab a head view of the data\n",
    "head(train[c(1:6, 100:105)])"
   ]
  },
  {
   "cell_type": "markdown",
   "metadata": {},
   "source": [
    "### EDA on categorical variables\n",
    "It appears that we have a few categorical variables and several quantitative ones.  I'll dig into the categorical ones here first."
   ]
  },
  {
   "cell_type": "code",
   "execution_count": 8,
   "metadata": {
    "collapsed": false
   },
   "outputs": [
    {
     "data": {
      "text/html": [
       "<table>\n",
       "<thead><tr><th></th><th scope=col>X0</th><th scope=col>X1</th><th scope=col>X2</th><th scope=col>X3</th><th scope=col>X4</th><th scope=col>X5</th><th scope=col>X6</th><th scope=col>X8</th></tr></thead>\n",
       "<tbody>\n",
       "\t<tr><th scope=row>1</th><td>k </td><td>v </td><td>at</td><td>a </td><td>d </td><td>u </td><td>j </td><td>o </td></tr>\n",
       "\t<tr><th scope=row>2</th><td>k </td><td>t </td><td>av</td><td>e </td><td>d </td><td>y </td><td>l </td><td>o </td></tr>\n",
       "\t<tr><th scope=row>3</th><td>az</td><td>w </td><td>n </td><td>c </td><td>d </td><td>x </td><td>j </td><td>x </td></tr>\n",
       "\t<tr><th scope=row>4</th><td>az</td><td>t </td><td>n </td><td>f </td><td>d </td><td>x </td><td>l </td><td>e </td></tr>\n",
       "\t<tr><th scope=row>5</th><td>az</td><td>v </td><td>n </td><td>f </td><td>d </td><td>h </td><td>d </td><td>n </td></tr>\n",
       "\t<tr><th scope=row>6</th><td>t</td><td>b</td><td>e</td><td>c</td><td>d</td><td>g</td><td>h</td><td>s</td></tr>\n",
       "</tbody>\n",
       "</table>\n"
      ],
      "text/latex": [
       "\\begin{tabular}{r|llllllll}\n",
       "  & X0 & X1 & X2 & X3 & X4 & X5 & X6 & X8\\\\\n",
       "\\hline\n",
       "\t1 & k  & v  & at & a  & d  & u  & j  & o \\\\\n",
       "\t2 & k  & t  & av & e  & d  & y  & l  & o \\\\\n",
       "\t3 & az & w  & n  & c  & d  & x  & j  & x \\\\\n",
       "\t4 & az & t  & n  & f  & d  & x  & l  & e \\\\\n",
       "\t5 & az & v  & n  & f  & d  & h  & d  & n \\\\\n",
       "\t6 & t & b & e & c & d & g & h & s\\\\\n",
       "\\end{tabular}\n"
      ],
      "text/plain": [
       "  X0 X1 X2 X3 X4 X5 X6 X8\n",
       "1  k  v at  a  d  u  j  o\n",
       "2  k  t av  e  d  y  l  o\n",
       "3 az  w  n  c  d  x  j  x\n",
       "4 az  t  n  f  d  x  l  e\n",
       "5 az  v  n  f  d  h  d  n\n",
       "6  t  b  e  c  d  g  h  s"
      ]
     },
     "metadata": {},
     "output_type": "display_data"
    }
   ],
   "source": [
    "# Peel off covariates, grab categorical ones\n",
    "covars <- train %>% select(starts_with('X'))\n",
    "cat_names <- colnames(covars)[sapply(covars, function(x) class(x) == 'character')]\n",
    "cat_vars_train <- train[cat_names]\n",
    "cat_vars_test <- test[cat_names]\n",
    "head(cat_vars_train)"
   ]
  },
  {
   "cell_type": "code",
   "execution_count": 9,
   "metadata": {
    "collapsed": false
   },
   "outputs": [
    {
     "name": "stdout",
     "output_type": "stream",
     "text": [
      "X0 X1 X2 X3 X4 X5 X6 X8 \n",
      "47 27 44  7  4 29 12 25 \n",
      "X0 X1 X2 X3 X4 X5 X6 X8 \n",
      "49 27 45  7  4 32 12 25 \n"
     ]
    }
   ],
   "source": [
    "# Uh oh - X0, X2, and X5 each have levels in testing that are not in training\n",
    "# Likely solution: Will make two models.  One with and one without X0, X2, and X5.\n",
    "sapply(cat_vars_train, function(x) length(unique(x))) %>% print\n",
    "sapply(cat_vars_test, function(x) length(unique(x))) %>% print"
   ]
  },
  {
   "cell_type": "markdown",
   "metadata": {},
   "source": [
    "### EDA on quantitative variables\n",
    "Most of our variables are quantitative, and as we will soon see, they are all binary!"
   ]
  },
  {
   "cell_type": "code",
   "execution_count": 10,
   "metadata": {
    "collapsed": true
   },
   "outputs": [],
   "source": [
    "num_names <- colnames(covars)[sapply(covars, function(x) class(x) != 'character')]\n",
    "num_vars_train <- train[num_names]\n",
    "num_vars_test <- test[num_names]"
   ]
  },
  {
   "cell_type": "code",
   "execution_count": 11,
   "metadata": {
    "collapsed": false
   },
   "outputs": [
    {
     "name": "stdout",
     "output_type": "stream",
     "text": [
      "\n",
      "  1   2 \n",
      " 12 356 \n",
      "   Min. 1st Qu.  Median    Mean 3rd Qu.    Max. \n",
      "  1.000   2.000   2.000   1.967   2.000   2.000 \n"
     ]
    }
   ],
   "source": [
    "# All variables are binary!\n",
    "table(sapply(num_vars_train, function(x) length(unique(x)))) %>% print\n",
    "\n",
    "# Furthermore - many are unary!  Will need to remove these for model fitting\n",
    "summary(sapply(num_vars_train, function(x) length(unique(x)))) %>% print"
   ]
  },
  {
   "cell_type": "markdown",
   "metadata": {},
   "source": [
    "### EDA on response\n",
    "Our response variable is quantitative and represents a length of time."
   ]
  },
  {
   "cell_type": "code",
   "execution_count": 12,
   "metadata": {
    "collapsed": true
   },
   "outputs": [],
   "source": [
    "# Load package for plot scaling, and set options\n",
    "library(repr)\n",
    "options(repr.plot.width = 3, repr.plot.height = 3, repr.plot.res = 120)"
   ]
  },
  {
   "cell_type": "code",
   "execution_count": 13,
   "metadata": {
    "collapsed": false
   },
   "outputs": [
    {
     "data": {},
     "metadata": {},
     "output_type": "display_data"
    },
    {
     "data": {
      "image/png": "[encoded data removed]",
      "text/plain": [
       "plot without title"
      ]
     },
     "metadata": {},
     "output_type": "display_data"
    }
   ],
   "source": [
    "# Interesting trimodal(?) distribution\n",
    "ggplot(train) +\n",
    "    theme_bw() +\n",
    "    geom_density(aes(y), fill = 'red', alpha = 1/2) +\n",
    "    labs(x = 'Time', y = '')"
   ]
  },
  {
   "cell_type": "code",
   "execution_count": 14,
   "metadata": {
    "collapsed": false
   },
   "outputs": [
    {
     "data": {},
     "metadata": {},
     "output_type": "display_data"
    },
    {
     "data": {
      "image/png": "[encoded data removed]",
      "text/plain": [
       "plot without title"
      ]
     },
     "metadata": {},
     "output_type": "display_data"
    }
   ],
   "source": [
    "# Looks a little more symmetric on the log scale.  Will use this in my model.  However, data are still problematically trimodal.\n",
    "ggplot(train) +\n",
    "    theme_bw() +\n",
    "    geom_density(aes(log(y)), fill = 'red', alpha = 1/2) +\n",
    "    labs(x = 'logTime', y = '')"
   ]
  },
  {
   "cell_type": "markdown",
   "metadata": {},
   "source": [
    "# Conclusions\n",
    "We have 8 categorical variables, some with over 40 levels.  We also have hundreds of binary variables.  To me, this screams _tree methods, you idiot!_, but there are two problems with tree methods:\n",
    "* I have an extreme curse of dimensionality (maybe not that big of a problem...)\n",
    "* Everyone on Kaggle is probably just going to XGBoost the hell out of this, and I want to be different.\n",
    "\n",
    "I believe that this is an excellent opportunity to use a [grouped lasso](http://pages.stat.wisc.edu/~myuan/papers/glasso.final.pdf).  The advantage to this technique is that I can group the indicator matrices produced by the categorical variables so that they are all regularized to zero simultaneously.  This way, I can regularize my model to prevent overfitting, while still appropriately dealing with the categorical variables.  The binary variables need not be grouped in this way.  In addition, I will also be using the log response."
   ]
  }
 ],
 "metadata": {
  "anaconda-cloud": {},
  "kernelspec": {
   "display_name": "R",
   "language": "R",
   "name": "ir"
  },
  "language_info": {
   "codemirror_mode": "r",
   "file_extension": ".r",
   "mimetype": "text/x-r-source",
   "name": "R",
   "pygments_lexer": "r",
   "version": "3.3.1"
  }
 },
 "nbformat": 4,
 "nbformat_minor": 1
}
